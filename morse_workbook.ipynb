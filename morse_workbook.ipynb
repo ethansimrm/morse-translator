{
 "cells": [
  {
   "cell_type": "markdown",
   "metadata": {},
   "source": [
    "# Morse En/Decoder\n",
    "#### By Ethan Sim"
   ]
  },
  {
   "cell_type": "markdown",
   "metadata": {},
   "source": [
    "In theory, encoding and decoding Morse is quite simple. The challenge for me will be to implement this whole thing in a systematic manner, and hopefully to arrive at a simple user interface."
   ]
  },
  {
   "cell_type": "markdown",
   "metadata": {},
   "source": [
    "Generally, our workflow will be as follows:\n",
    "- Create a dictionary to translate alphabets and special characters into Morse and vice versa\n",
    "- Create a testing suite for each en/decoder to iron out any mistakes\n",
    "- Wrap this in a user interface to allow for input of plaintext and ciphertext for encoder and decoder respectively"
   ]
  },
  {
   "cell_type": "markdown",
   "metadata": {},
   "source": [
    "## Dictionary Creation"
   ]
  },
  {
   "cell_type": "markdown",
   "metadata": {},
   "source": [
    "First, we create the dictionary **morse_dict**, which will contain all character-to-Morse links. **morse_dict** shall have the following properties:\n",
    "- Allow all letters to be translated into Morse\n",
    "- Allow all numbers to be translated into Morse\n",
    "- Permit separation of individual letters and words\n",
    "- Allow certain special characters (e.g. punctuation) to be translated into Morse (I will ignore the non-latin and prosign tables here)"
   ]
  },
  {
   "cell_type": "markdown",
   "metadata": {},
   "source": [
    "<img src=\"alphabet.svg\">\n",
    "\n",
    "**Figure 1: The basis of our Morse translation. Source: https://www.cryptomuseum.com/radio/morse/**"
   ]
  },
  {
   "cell_type": "code",
   "execution_count": 92,
   "metadata": {},
   "outputs": [],
   "source": [
    "morse_dict = {\" \":\"/ \", \"A\":\".- \", \"B\":\"-... \", \"C\":\"-.-. \", \"D\":\"-.. \", \"E\":\". \", \"F\":\"..-. \", \"G\":\"--. \", \n",
    "              \"H\":\".... \", \"I\": \".. \", \"J\":\".--- \", \"K\":\"-.- \", \"L\":\".-.. \", \"M\":\"-- \", \"N\":\"-. \", \"O\":\"--- \",\n",
    "              \"P\":\".--. \", \"Q\":\"--.- \", \"R\":\".-. \", \"S\":\"... \", \"T\":\"- \", \"U\":\"..- \", \"V\":\"...- \", \"W\":\".-- \",\n",
    "              \"X\":\"-..- \", \"Y\":\"-.-- \", \"Z\":\"--.. \", \"1\":\".---- \", \"2\":\"..--- \", \"3\":\"...-- \", \"4\":\"....- \",\n",
    "              \"5\":\"..... \", \"6\":\"-.... \", \"7\":\"--... \", \"8\":\"---.. \", \"9\":\"----. \", \"0\":\"----- \", \".\":\".-.-.- \",\n",
    "              \",\":\"--..-- \", \"?\":\"..--.. \", \"'\":\".----. \", \"!\":\"-.-.-- \", \"/\":\"-..-. \", \"(\":\"-.--.\", \")\":\"-.--.- \",\n",
    "              \"&\":\".-... \", \":\":\"---... \", \";\":\"-.-.-. \", \"=\":\"-...- \", \"+\":\".-.-. \", \"-\":\"-....- \", \"_\":\"..--.- \",\n",
    "              '\"':\".-..-. \", \"$\":\"...-..- \", \"@\":\".--.-. \"}\n",
    "\n",
    "#Creating these lists to save memory when looking up values\n",
    "plaintext_characters = list(morse_dict.keys())\n",
    "ciphertext_characters = list(morse_dict.values())"
   ]
  },
  {
   "cell_type": "markdown",
   "metadata": {},
   "source": [
    "Our dictionary has the following properties (and shortcomings):\n",
    "- I have used spaces to separate individual characters, and slashes to separate individual words. This will enable my decoder to operate reliably later on.\n",
    "- Unfortunately there is no way to preserve the capital/small letter information in Morse - traditionally, plaintext was all uppercase.\n",
    "- I've used different colon marks to capture the two different quotation styles; hopefully this works."
   ]
  },
  {
   "cell_type": "markdown",
   "metadata": {},
   "source": [
    "## Encoding"
   ]
  },
  {
   "cell_type": "markdown",
   "metadata": {},
   "source": [
    "With the dictionary settled, we now turn to the encoding - turning user input into Morse. We have to coerce our user input to uppercase - otherwise our dictionary won't work!"
   ]
  },
  {
   "cell_type": "code",
   "execution_count": 98,
   "metadata": {},
   "outputs": [],
   "source": [
    "import re\n",
    "\n",
    "#To refactor our code, let's use a helper function\n",
    "def whitespace_sorter(sentence):\n",
    "    \"\"\"\n",
    "    Takes as input a string sentence and removes leading and trailing whitespace, also coerces all multiple whitespaces into a single whitespace character.\n",
    "    \"\"\"\n",
    "    sentence_copy = str(sentence)\n",
    "    sentence_copy = sentence_copy.strip() #Remove leading and trailing whitespace (/s)\n",
    "    sentence_copy = re.sub(\" +\", \" \", sentence_copy) #Coerces all multiple /s characters into a single /s\n",
    "    #It identifies a /s followed by any nonzero number of /s and replaces this with a single /s \n",
    "    return sentence_copy\n",
    "\n",
    "def encode_morse(plaintext):\n",
    "    \"\"\"\n",
    "    Takes as input a string plaintext and returns its Morse equivalent in string form.\n",
    "    \"\"\"\n",
    "    if not isinstance(plaintext, str):\n",
    "        return \"Plaintext is not a string!\"\n",
    "    # Having confirmed it's a string, we convert it to uppercase - this will leave numbers and special characters untouched\n",
    "    if not plaintext.isupper():\n",
    "        plaintext_copy = plaintext.upper() #We don't want to mutate the input\n",
    "    else:\n",
    "        plaintext_copy = str(plaintext)\n",
    "    plaintext_copy = whitespace_sorter(plaintext_copy)        \n",
    "    ciphertext = \"\" #This also has the effect of returning an empty string if an empty string is the input\n",
    "    #We then do the actual translation by simply looking up the dictionary value\n",
    "    for character in plaintext_copy:\n",
    "        if character not in plaintext_characters:\n",
    "            return \"You can't encode the following character: \" + character\n",
    "        ciphertext += morse_dict[character]\n",
    "    return ciphertext[:-1] #Remove trailing /s"
   ]
  },
  {
   "cell_type": "markdown",
   "metadata": {},
   "source": [
    "Now that we've created our encoder, let's build our testing suite. We will check our output against that provided by https://morsecode.world/international/translator.html, which uses the same space and character delimiters. Note that this website cannot translate certain characters, such as $."
   ]
  },
  {
   "cell_type": "code",
   "execution_count": 167,
   "metadata": {},
   "outputs": [
    {
     "name": "stdout",
     "output_type": "stream",
     "text": [
      "Congratulations! 9/9 tests passed!\n"
     ]
    }
   ],
   "source": [
    "def test_encoder():\n",
    "    \"\"\"\n",
    "    This will run our Morse encoder against a selection of varying inputs, and compare the outputs to a model answer.\n",
    "    \"\"\"\n",
    "    #Check edge cases first\n",
    "    assert encode_morse(123) == \"Plaintext is not a string!\", \"Test 1 failed, input integer 123\"\n",
    "    assert encode_morse(\"\") == \"\", \"Test 2 failed, input ''\"\n",
    "    assert encode_morse(\"^\") == \"You can't encode the following character: ^\", \"Test 3 failed, input '^'\"\n",
    "    assert encode_morse(\"   e       e   \") == \". / .\", \"Test 4 failed, input '   e       e   '\"\n",
    "    assert encode_morse(\"AbCd\") == \".- -... -.-. -..\", \"Test 5 failed, input 'AbCd'\"\n",
    "    \n",
    "    #Now we run possible plaintexts and check their corresponding ciphertexts\n",
    "    assert encode_morse(\"the quick brown fox jumps over the lazy dog\") == \"- .... . / --.- ..- .. -.-. -.- / -... .-. --- .-- -. / ..-. --- -..- / .--- ..- -- .--. ... / --- ...- . .-. / - .... . / .-.. .- --.. -.-- / -.. --- --.\", \"Test 6 failed, input 'the quick brown fox jumps over the lazy dog'\"\n",
    "    assert encode_morse(\"H1er0ph@nT + '\") == \".... .---- . .-. ----- .--. .... .--.-. -. - / .-.-. / .----.\", \"Test 7 failed, input 'H1er0ph@nT + ''\"\n",
    "    assert encode_morse('\"' + \"'\") == \".-..-. .----.\", \"Test 8 failed, input ''(double apostrophe)' + '(single apostrophe)'\"\n",
    "    \n",
    "    #Check that input not mutated\n",
    "    test_plaintext_9 = \"test\"\n",
    "    encode_morse(test_plaintext_9)\n",
    "    assert test_plaintext_9 == \"test\", \"Test 9 failed, input 'test' mutated\"\n",
    "    \n",
    "    #If all tests passed\n",
    "    print (\"Congratulations! 9/9 tests passed!\")\n",
    "\n",
    "test_encoder()"
   ]
  },
  {
   "cell_type": "markdown",
   "metadata": {},
   "source": [
    "Having validated our encoding function, we can now present it to the user."
   ]
  },
  {
   "cell_type": "code",
   "execution_count": 184,
   "metadata": {},
   "outputs": [
    {
     "name": "stdout",
     "output_type": "stream",
     "text": [
      "Enter your plaintext:\n"
     ]
    },
    {
     "name": "stdin",
     "output_type": "stream",
     "text": [
      " \n"
     ]
    },
    {
     "name": "stdout",
     "output_type": "stream",
     "text": [
      "Your Morse ciphertext is:\n",
      "\n"
     ]
    }
   ],
   "source": [
    "#Press enter once input done - else the kernel will freeze.\n",
    "print(\"Enter your plaintext:\")\n",
    "en_plaintext = str(input())\n",
    "print (\"Your Morse ciphertext is:\")\n",
    "en_ciphertext = encode_morse(en_plaintext)\n",
    "print (en_ciphertext)"
   ]
  },
  {
   "cell_type": "markdown",
   "metadata": {},
   "source": [
    "## Decoding"
   ]
  },
  {
   "cell_type": "markdown",
   "metadata": {},
   "source": [
    "Now, we turn to decoding. We will specify rules for user input to ensure our dictionary works, such as the use of spaces to delimit letters and slashes to separate words. \n",
    "- In line with our model answer, we need to ignore leading, successive, and trailing slashes. We can, however, cheat a bit by simply stripping the decoded plaintext once the heavy lifting is done by the dictionary. \n",
    "- A weakness of the model website is that it parses a single slash as plaintext rather than ciphertext, although this makes sense because only the output of the former has meaning. \n",
    "- As mentioned previously, our plaintext output will be in all capitals."
   ]
  },
  {
   "cell_type": "code",
   "execution_count": 152,
   "metadata": {},
   "outputs": [],
   "source": [
    "def decode_morse(ciphertext):\n",
    "    \"\"\"\n",
    "    Takes as input the Morse string ciphertext and returns a plaintext string.\n",
    "    \"\"\"\n",
    "    if not isinstance(ciphertext, str):\n",
    "        return \"Ciphertext is not a string!\"\n",
    "    ciphertext_copy = str(ciphertext)\n",
    "    if len(ciphertext) == 0: #Accounts for empty string\n",
    "        return \"\"\n",
    "    if ciphertext_copy[-1] != \" \":\n",
    "        ciphertext_copy += \" \" #Accounts for user variation in final trailing whitespace - we need this final whitespace for the dictionary to work\n",
    "        #This also has the effect of returning nonsense characters we can't decode later on\n",
    "    plaintext = \"\" #Empty string solution\n",
    "    morse_char = \"\" #This variable will hold each letter/character's Morse code\n",
    "    for character in ciphertext_copy:\n",
    "        if character == \" \": #Spaces are letter delimiters\n",
    "            morse_char += character\n",
    "            if morse_char in ciphertext_characters:\n",
    "                plaintext += plaintext_characters[ciphertext_characters.index(morse_char)]\n",
    "                morse_char = \"\" #Reset the holding variable\n",
    "            else:\n",
    "                return \"Your decoded message thus far is: \" + whitespace_sorter(plaintext) + \"\\nI can't decode the following character: \" + morse_char\n",
    "                #The nature of this return statement allows tests via assertion, but will also respond to print statements accordingly.\n",
    "        else:\n",
    "            morse_char += character #If it's not a letter delimiter, continue building the letter/character Morse code\n",
    "    plaintext = whitespace_sorter(plaintext)\n",
    "    return plaintext"
   ]
  },
  {
   "cell_type": "markdown",
   "metadata": {},
   "source": [
    "Now that we've created our decoder, let's build our testing suite. We check our output against that of the website listed above. I could check it against **encode_morse()**, but let's be impartial and use an external reference."
   ]
  },
  {
   "cell_type": "code",
   "execution_count": 173,
   "metadata": {},
   "outputs": [
    {
     "name": "stdout",
     "output_type": "stream",
     "text": [
      "Congratulations! 9/9 tests passed!\n"
     ]
    }
   ],
   "source": [
    "def test_decoder():\n",
    "    \"\"\"\n",
    "     This will run our Morse decoder against a selection of varying inputs, and compare the outputs to a model answer.\n",
    "    \"\"\"\n",
    "    #Check edge cases first\n",
    "    assert decode_morse(123) == \"Ciphertext is not a string!\", \"Test 1 failed, input integer 123\"\n",
    "    assert decode_morse(\"\") == \"\", \"Test 2 failed, input ''\"\n",
    "    assert decode_morse(\"string\") == \"Your decoded message thus far is: \\nI can't decode the following character: string \", \"Test 3 failed, input 'string'\"\n",
    "    assert decode_morse(\".- ..- / .- . .--.-.-.-.-.-.-.-.-.-.\") == \"Your decoded message thus far is: AU AE\\nI can't decode the following character: .--.-.-.-.-.-.-.-.-.-. \", \"Test 4 failed, input '.- ..- / .- . .--.-.-.-.-.-.-.-.-.-.'\" \n",
    "    assert decode_morse(\"/\") == \"\", \"Test 5 failed, input '/'\" #My function parses the slash as ciphertext, but whitespace_sorter discards it as meaningless noise.\n",
    "    #This is fair because both encoder and decoder ignore spaces presented by themselves, in plaintext and ciphertext respectively.\n",
    "    \n",
    "    #Now we run possible ciphertexts and check their corresponding plaintexts:\n",
    "    assert decode_morse(\"- .... . / --.- ..- .. -.-. -.- / -... .-. --- .-- -. / ..-. --- -..- / .--- ..- -- .--. ... / --- ...- . .-. / - .... . / .-.. .- --.. -.-- / -.. --- --.\") == \"THE QUICK BROWN FOX JUMPS OVER THE LAZY DOG\", \"Test 6 failed, input '- .... . / --.- ..- .. -.-. -.- / -... .-. --- .-- -. / ..-. --- -..- / .--- ..- -- .--. ... / --- ...- . .-. / - .... . / .-.. .- --.. -.-- / -.. --- --.'\"\n",
    "    assert decode_morse(\".... .---- . .-. ----- .--. .... .--.-. -. - / .-.-. / .----.\") == \"H1ER0PH@NT + '\", \"Test 7 failed, input '.... .---- . .-. ----- .--. .... .--.-. -. - / .-.-. / .----.\"\n",
    "    assert decode_morse(\".-..-. .----.\") == '\"' + \"'\", \"Test 8 failed, input '.-..-. .----.'\"\n",
    "    \n",
    "    #Check that input not mutated\n",
    "    test_ciphertext_9 = \"- . ... -\"\n",
    "    encode_morse(test_ciphertext_9)\n",
    "    assert test_ciphertext_9 == \"- . ... -\", \"Test 9 failed, input '- . ... -' mutated\" \n",
    "    \n",
    "    #If all tests passed\n",
    "    print (\"Congratulations! 9/9 tests passed!\")\n",
    "\n",
    "test_decoder()"
   ]
  },
  {
   "cell_type": "markdown",
   "metadata": {},
   "source": [
    "Having validated our decoding function, we can now present it to the user."
   ]
  },
  {
   "cell_type": "code",
   "execution_count": 185,
   "metadata": {},
   "outputs": [
    {
     "name": "stdout",
     "output_type": "stream",
     "text": [
      "Enter your Morse ciphertext:\n"
     ]
    },
    {
     "name": "stdin",
     "output_type": "stream",
     "text": [
      " \n"
     ]
    },
    {
     "name": "stdout",
     "output_type": "stream",
     "text": [
      "Your decoded plaintext is:\n",
      "\n"
     ]
    }
   ],
   "source": [
    "print(\"Enter your Morse ciphertext:\")\n",
    "de_ciphertext = str(input())\n",
    "print (\"Your decoded plaintext is:\")\n",
    "de_plaintext = decode_morse(de_ciphertext)\n",
    "print (de_plaintext)"
   ]
  },
  {
   "cell_type": "markdown",
   "metadata": {},
   "source": [
    "## Wrapping Up"
   ]
  },
  {
   "cell_type": "markdown",
   "metadata": {},
   "source": [
    "Now that we've settled both encoder and decoder, let's try to present both in a simple user interface."
   ]
  },
  {
   "cell_type": "code",
   "execution_count": 188,
   "metadata": {},
   "outputs": [],
   "source": [
    "def morse_interface(de_en_flag):\n",
    "    \"\"\"\n",
    "    A simple wrapper in Jupyter Notebook to enable encoding to and decoding from Morse.\n",
    "    \"\"\"\n",
    "    if de_en_flag == \"decode\":\n",
    "        print(\"Enter your Morse ciphertext:\")\n",
    "        user_ciphertext = str(input())\n",
    "        print (\"Your decoded plaintext is:\")\n",
    "        print (decode_morse(user_ciphertext))\n",
    "    elif de_en_flag == \"encode\":\n",
    "        print(\"Enter your plaintext:\")\n",
    "        user_plaintext = str(input())\n",
    "        print (\"Your Morse ciphertext is:\")\n",
    "        print (encode_morse(user_plaintext))\n",
    "    else:\n",
    "        print (\"Invalid input!\")    "
   ]
  },
  {
   "cell_type": "markdown",
   "metadata": {},
   "source": [
    "And now that we've created this very basic interface, we can now present the following to the user - comment out the line below to try it!"
   ]
  },
  {
   "cell_type": "code",
   "execution_count": 189,
   "metadata": {},
   "outputs": [
    {
     "name": "stdout",
     "output_type": "stream",
     "text": [
      "Would you like to encode or decode? Type 'encode' to encode plaintext into Morse, and 'decode' to decode a Morse ciphertext.\n"
     ]
    }
   ],
   "source": [
    "print(\"Would you like to encode or decode? Type 'encode' to encode plaintext into Morse, and 'decode' to decode a Morse ciphertext.\")\n",
    "#morse_interface(str(input()))"
   ]
  },
  {
   "cell_type": "code",
   "execution_count": null,
   "metadata": {},
   "outputs": [],
   "source": []
  }
 ],
 "metadata": {
  "kernelspec": {
   "display_name": "Python 3",
   "language": "python",
   "name": "python3"
  },
  "language_info": {
   "codemirror_mode": {
    "name": "ipython",
    "version": 3
   },
   "file_extension": ".py",
   "mimetype": "text/x-python",
   "name": "python",
   "nbconvert_exporter": "python",
   "pygments_lexer": "ipython3",
   "version": "3.8.5"
  }
 },
 "nbformat": 4,
 "nbformat_minor": 4
}
